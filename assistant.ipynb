{
 "cells": [
  {
   "cell_type": "code",
   "execution_count": 3,
   "metadata": {},
   "outputs": [
    {
     "name": "stdout",
     "output_type": "stream",
     "text": [
      "{'today_weather': 'Rain', 'today_temp_min': 22.69, 'today_temp_max': 23.78, 'temp_max_difference': 0.0, 'temp_min_difference': 0.0, 'temp_difference': 1.0899999999999999}\n"
     ]
    }
   ],
   "source": [
    "import requests\n",
    "import time\n",
    "\n",
    "weather_api_key = \"4ca1ef65af4a2d76c9c1de6ea6a4b895\"\n",
    "\n",
    "def get_weather_today(city):\n",
    "    url = f'http://api.openweathermap.org/data/2.5/weather?q={city}&appid=4ca1ef65af4a2d76c9c1de6ea6a4b895&units=metric&lang=kr'\n",
    "    response = requests.get(url)\n",
    "    data = response.json()\n",
    "    lat = data['coord']['lat']\n",
    "    lon = data['coord']['lon']\n",
    "    return lat, lon, data\n",
    "\n",
    "def get_weather_for_date(lat, lon, date):\n",
    "    url = f'https://api.openweathermap.org/data/2.5/forecast/daily?dt={date}&lat={lat}&lon={lon}&appid=4ca1ef65af4a2d76c9c1de6ea6a4b895&units=metric&lang=kr'\n",
    "    response = requests.get(url)\n",
    "    return response.json()\n",
    "\n",
    "def get_weather_today_onecall(lat, lon):\n",
    "    url = f'https://api.openweathermap.org/data/2.5/forecast/daily?lat={lat}&lon={lon}&appid=4ca1ef65af4a2d76c9c1de6ea6a4b895&units=metric&lang=kr'\n",
    "    response = requests.get(url)\n",
    "    return response.json()\n",
    "\n",
    "def weather_info(city):\n",
    "    current_time = int(time.time())\n",
    "    yesterday_time = current_time - 86400\n",
    "    \n",
    "    lat, lon, today_weather_city = get_weather_today(city)\n",
    "    today_weather = get_weather_today_onecall(lat, lon)\n",
    "    yesterday_weather = get_weather_for_date(lat, lon, yesterday_time)\n",
    "    \n",
    "    today_temp_max = today_weather['main']['temp_max']\n",
    "    today_temp_min = today_weather['main']['temp_min']\n",
    "    today_weather = today_weather['weather'][0]['main']\n",
    "    \n",
    "    yesterday_temp_max = yesterday_weather['main']['temp_max']\n",
    "    yesterday_temp_min = yesterday_weather['main']['temp_min']\n",
    "\n",
    "    temp_max_difference = today_temp_max - yesterday_temp_max\n",
    "    temp_min_difference = today_temp_min - yesterday_temp_min\n",
    "\n",
    "    temp_difference = today_temp_max - today_temp_min\n",
    "\n",
    "    result = {\n",
    "        \"today_weather\": today_weather,\n",
    "        \"today_temp_min\": today_temp_min,\n",
    "        \"today_temp_max\": today_temp_max,\n",
    "        \"temp_max_difference\": temp_max_difference,\n",
    "        \"temp_min_difference\": temp_min_difference,\n",
    "        \"temp_difference\": temp_difference\n",
    "    }\n",
    "\n",
    "    return result\n",
    "\n",
    "print(weather_info(\"Seoul\"))"
   ]
  },
  {
   "cell_type": "code",
   "execution_count": 3,
   "metadata": {},
   "outputs": [
    {
     "name": "stdout",
     "output_type": "stream",
     "text": [
      "Thread(id='thread_cu8Z8Tv0LB4ZunmF2fpNLsBY', created_at=1717663158, metadata={}, object='thread', tool_resources=ToolResources(code_interpreter=None, file_search=None))\n"
     ]
    }
   ],
   "source": [
    "import openai\n",
    "import os\n",
    "\n",
    "# OpenAI API를 사용하기 위한 클라이언트 객체를 생성합니다.\n",
    "openai.api_key = \"\" # API 키!\n",
    "\n",
    "ASSISTANT_ID = 'asst_tUcre9CS6mNDuLm90VEahIZU'\n",
    "\n",
    "thread = openai.beta.threads.create()\n",
    "\n",
    "print(thread)"
   ]
  },
  {
   "cell_type": "code",
   "execution_count": null,
   "metadata": {},
   "outputs": [],
   "source": [
    "message = openai.beta.threads.messages.create(\n",
    "    thread_id=thread.id,\n",
    "    role=\"user\",\n",
    "    content=\"나는 서울 용산구에 있어, 뭐를 입어야 할까?\"\n",
    ")\n",
    "\n",
    "run = openai.beta.threads.runs.create(\n",
    "  thread_id=thread.id,  # 생성한 스레드 ID\n",
    "  assistant_id=ASSISTANT_ID  # 적용할 Assistant ID\n",
    ")\n",
    "run_id=run.id\n",
    "\n",
    "print(run)"
   ]
  },
  {
   "cell_type": "code",
   "execution_count": 13,
   "metadata": {},
   "outputs": [
    {
     "name": "stdout",
     "output_type": "stream",
     "text": [
      "requires_action\n"
     ]
    }
   ],
   "source": [
    "\n",
    "run = openai.beta.threads.runs.retrieve(\n",
    "  thread_id=thread.id,  # 생성한 스레드 ID\n",
    "  run_id=run_id\n",
    ")\n",
    "\n",
    "if run.status == 'completed':\n",
    "  messages = openai.beta.threads.messages.list(\n",
    "    thread_id=thread.id\n",
    "  )\n",
    "  print(messages.data[0].content[0].text.value)\n",
    "else:\n",
    "  print(run.status)\n"
   ]
  },
  {
   "cell_type": "code",
   "execution_count": 14,
   "metadata": {},
   "outputs": [
    {
     "name": "stdout",
     "output_type": "stream",
     "text": [
      "나는 서울 용산구에 있어, 뭐를 입어야 할까?\n",
      "서울 용산구의 오늘 날씨를 알려줄게.\n",
      "\n",
      "어제와 비교해보면:\n",
      "- 오늘은 어제보다 더 덥습니다.\n",
      "- 오늘 기온이 30도 이상이라 엄청 덥습니다.\n",
      "\n",
      "오늘 추천하는 옷차림:\n",
      "- 가벼운 반팔 옷이나 시원한 옷을 입는 것이 좋습니다.\n",
      "- 일교차가 크지 않지만, 낮 기온이 높아 더위를 많이 탈 수 있으니 주의하세요.\n",
      "\n",
      "더운 날 건강 관리 잘하시고 시원하게 보내세요!\n"
     ]
    }
   ],
   "source": [
    "# Define the list to store tool outputs\n",
    "tool_outputs = []\n",
    " \n",
    "# Loop through each tool in the required action section\n",
    "for tool in run.required_action.submit_tool_outputs.tool_calls:\n",
    "  if tool.function.name == \"weather_info\":\n",
    "    tool_outputs.append({\n",
    "      \"tool_call_id\": tool.id,\n",
    "      \"output\": \"57\"\n",
    "    })\n",
    " \n",
    "# Submit all tool outputs at once after collecting them in a list\n",
    "if tool_outputs:\n",
    "  try:\n",
    "    run = openai.beta.threads.runs.submit_tool_outputs_and_poll(\n",
    "      thread_id=thread.id,\n",
    "      run_id=run.id,\n",
    "      tool_outputs=tool_outputs\n",
    "    )\n",
    "  except Exception as e:\n",
    "    print(e)\n",
    "else:\n",
    "  print(\"No tool outputs to submit.\")\n",
    " \n",
    "if run.status == 'completed':\n",
    "  messages = openai.beta.threads.messages.list(\n",
    "    thread_id=thread.id\n",
    "  )\n",
    "  print(messages.data[1].content[0].text.value)\n",
    "  print(messages.data[0].content[0].text.value)\n",
    "else:\n",
    "  print(run.status)"
   ]
  }
 ],
 "metadata": {
  "kernelspec": {
   "display_name": "openai-env",
   "language": "python",
   "name": "python3"
  },
  "language_info": {
   "codemirror_mode": {
    "name": "ipython",
    "version": 3
   },
   "file_extension": ".py",
   "mimetype": "text/x-python",
   "name": "python",
   "nbconvert_exporter": "python",
   "pygments_lexer": "ipython3",
   "version": "3.12.4"
  }
 },
 "nbformat": 4,
 "nbformat_minor": 2
}
